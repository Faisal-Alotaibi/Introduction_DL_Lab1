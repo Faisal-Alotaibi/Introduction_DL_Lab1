{
 "cells": [
  {
   "cell_type": "markdown",
   "id": "4812010e",
   "metadata": {},
   "source": [
    "# Introduction to Deep Learning\n",
    "\n",
    "## Objectives\n",
    "In this lab, you will embark on the journey of creating a ANN, DNN model tailored for predicting the total expenditure of potential consumers based on various characteristics. As a vehicle salesperson, your goal is to develop a model that can effectively estimate the overall spending potential.\n",
    "\n",
    "Your task is to build and train an ANN/DNN model using tensorflow in a Jupyter notebook.\n",
    "\n",
    "Feel Free to Explore the dataset, analyze its contents, and derive meaningful insights. Additionally, feel empowered to create insightful visualizations that enhance the understanding of the data. "
   ]
  },
  {
   "cell_type": "markdown",
   "id": "da5b7ee8",
   "metadata": {},
   "source": [
    "# Step 1: Import Libraries"
   ]
  },
  {
   "cell_type": "code",
   "execution_count": 1,
   "id": "4aa7a64f",
   "metadata": {},
   "outputs": [],
   "source": [
    "import pandas as pd\n",
    "import numpy as np\n",
    "import matplotlib.pyplot as plt\n",
    "from sklearn.model_selection import train_test_split\n",
    "from sklearn.preprocessing import StandardScaler\n",
    "from sklearn.metrics import accuracy_score, confusion_matrix\n"
   ]
  },
  {
   "cell_type": "code",
   "execution_count": 2,
   "metadata": {},
   "outputs": [
    {
     "name": "stdout",
     "output_type": "stream",
     "text": [
      "WARNING:tensorflow:From C:\\Users\\FzoOT\\AppData\\Local\\Packages\\PythonSoftwareFoundation.Python.3.11_qbz5n2kfra8p0\\LocalCache\\local-packages\\Python311\\site-packages\\keras\\src\\losses.py:2976: The name tf.losses.sparse_softmax_cross_entropy is deprecated. Please use tf.compat.v1.losses.sparse_softmax_cross_entropy instead.\n",
      "\n"
     ]
    }
   ],
   "source": [
    "from tensorflow.keras.models import Sequential\n",
    "from tensorflow.keras.layers import Dense"
   ]
  },
  {
   "cell_type": "markdown",
   "id": "2d843bfa",
   "metadata": {},
   "source": [
    "# Step 2: Load and Explore the Data"
   ]
  },
  {
   "cell_type": "code",
   "execution_count": 3,
   "id": "586083a4",
   "metadata": {},
   "outputs": [
    {
     "data": {
      "text/html": [
       "<div>\n",
       "<style scoped>\n",
       "    .dataframe tbody tr th:only-of-type {\n",
       "        vertical-align: middle;\n",
       "    }\n",
       "\n",
       "    .dataframe tbody tr th {\n",
       "        vertical-align: top;\n",
       "    }\n",
       "\n",
       "    .dataframe thead th {\n",
       "        text-align: right;\n",
       "    }\n",
       "</style>\n",
       "<table border=\"1\" class=\"dataframe\">\n",
       "  <thead>\n",
       "    <tr style=\"text-align: right;\">\n",
       "      <th></th>\n",
       "      <th>customer name</th>\n",
       "      <th>customer e-mail</th>\n",
       "      <th>country</th>\n",
       "      <th>gender</th>\n",
       "      <th>age</th>\n",
       "      <th>annual Salary</th>\n",
       "      <th>credit card debt</th>\n",
       "      <th>net worth</th>\n",
       "      <th>car purchase amount</th>\n",
       "    </tr>\n",
       "  </thead>\n",
       "  <tbody>\n",
       "    <tr>\n",
       "      <th>0</th>\n",
       "      <td>Martina Avila</td>\n",
       "      <td>cubilia.Curae.Phasellus@quisaccumsanconvallis.edu</td>\n",
       "      <td>Bulgaria</td>\n",
       "      <td>0</td>\n",
       "      <td>41.851720</td>\n",
       "      <td>62812.09301</td>\n",
       "      <td>11609.380910</td>\n",
       "      <td>238961.2505</td>\n",
       "      <td>35321.45877</td>\n",
       "    </tr>\n",
       "    <tr>\n",
       "      <th>1</th>\n",
       "      <td>Harlan Barnes</td>\n",
       "      <td>eu.dolor@diam.co.uk</td>\n",
       "      <td>Belize</td>\n",
       "      <td>0</td>\n",
       "      <td>40.870623</td>\n",
       "      <td>66646.89292</td>\n",
       "      <td>9572.957136</td>\n",
       "      <td>530973.9078</td>\n",
       "      <td>45115.52566</td>\n",
       "    </tr>\n",
       "    <tr>\n",
       "      <th>2</th>\n",
       "      <td>Naomi Rodriquez</td>\n",
       "      <td>vulputate.mauris.sagittis@ametconsectetueradip...</td>\n",
       "      <td>Algeria</td>\n",
       "      <td>1</td>\n",
       "      <td>43.152897</td>\n",
       "      <td>53798.55112</td>\n",
       "      <td>11160.355060</td>\n",
       "      <td>638467.1773</td>\n",
       "      <td>42925.70921</td>\n",
       "    </tr>\n",
       "    <tr>\n",
       "      <th>3</th>\n",
       "      <td>Jade Cunningham</td>\n",
       "      <td>malesuada@dignissim.com</td>\n",
       "      <td>Cook Islands</td>\n",
       "      <td>1</td>\n",
       "      <td>58.271369</td>\n",
       "      <td>79370.03798</td>\n",
       "      <td>14426.164850</td>\n",
       "      <td>548599.0524</td>\n",
       "      <td>67422.36313</td>\n",
       "    </tr>\n",
       "    <tr>\n",
       "      <th>4</th>\n",
       "      <td>Cedric Leach</td>\n",
       "      <td>felis.ullamcorper.viverra@egetmollislectus.net</td>\n",
       "      <td>Brazil</td>\n",
       "      <td>1</td>\n",
       "      <td>57.313749</td>\n",
       "      <td>59729.15130</td>\n",
       "      <td>5358.712177</td>\n",
       "      <td>560304.0671</td>\n",
       "      <td>55915.46248</td>\n",
       "    </tr>\n",
       "    <tr>\n",
       "      <th>...</th>\n",
       "      <td>...</td>\n",
       "      <td>...</td>\n",
       "      <td>...</td>\n",
       "      <td>...</td>\n",
       "      <td>...</td>\n",
       "      <td>...</td>\n",
       "      <td>...</td>\n",
       "      <td>...</td>\n",
       "      <td>...</td>\n",
       "    </tr>\n",
       "    <tr>\n",
       "      <th>495</th>\n",
       "      <td>Walter</td>\n",
       "      <td>ligula@Cumsociis.ca</td>\n",
       "      <td>Nepal</td>\n",
       "      <td>0</td>\n",
       "      <td>41.462515</td>\n",
       "      <td>71942.40291</td>\n",
       "      <td>6995.902524</td>\n",
       "      <td>541670.1016</td>\n",
       "      <td>48901.44342</td>\n",
       "    </tr>\n",
       "    <tr>\n",
       "      <th>496</th>\n",
       "      <td>Vanna</td>\n",
       "      <td>Cum.sociis.natoque@Sedmolestie.edu</td>\n",
       "      <td>Zimbabwe</td>\n",
       "      <td>1</td>\n",
       "      <td>37.642000</td>\n",
       "      <td>56039.49793</td>\n",
       "      <td>12301.456790</td>\n",
       "      <td>360419.0988</td>\n",
       "      <td>31491.41457</td>\n",
       "    </tr>\n",
       "    <tr>\n",
       "      <th>497</th>\n",
       "      <td>Pearl</td>\n",
       "      <td>penatibus.et@massanonante.com</td>\n",
       "      <td>Philippines</td>\n",
       "      <td>1</td>\n",
       "      <td>53.943497</td>\n",
       "      <td>68888.77805</td>\n",
       "      <td>10611.606860</td>\n",
       "      <td>764531.3203</td>\n",
       "      <td>64147.28888</td>\n",
       "    </tr>\n",
       "    <tr>\n",
       "      <th>498</th>\n",
       "      <td>Nell</td>\n",
       "      <td>Quisque.varius@arcuVivamussit.net</td>\n",
       "      <td>Botswana</td>\n",
       "      <td>1</td>\n",
       "      <td>59.160509</td>\n",
       "      <td>49811.99062</td>\n",
       "      <td>14013.034510</td>\n",
       "      <td>337826.6382</td>\n",
       "      <td>45442.15353</td>\n",
       "    </tr>\n",
       "    <tr>\n",
       "      <th>499</th>\n",
       "      <td>Marla</td>\n",
       "      <td>Camaron.marla@hotmail.com</td>\n",
       "      <td>marlal</td>\n",
       "      <td>1</td>\n",
       "      <td>46.731152</td>\n",
       "      <td>61370.67766</td>\n",
       "      <td>9391.341628</td>\n",
       "      <td>462946.4924</td>\n",
       "      <td>45107.22566</td>\n",
       "    </tr>\n",
       "  </tbody>\n",
       "</table>\n",
       "<p>500 rows × 9 columns</p>\n",
       "</div>"
      ],
      "text/plain": [
       "       customer name                                    customer e-mail  \\\n",
       "0      Martina Avila  cubilia.Curae.Phasellus@quisaccumsanconvallis.edu   \n",
       "1      Harlan Barnes                                eu.dolor@diam.co.uk   \n",
       "2    Naomi Rodriquez  vulputate.mauris.sagittis@ametconsectetueradip...   \n",
       "3    Jade Cunningham                            malesuada@dignissim.com   \n",
       "4       Cedric Leach     felis.ullamcorper.viverra@egetmollislectus.net   \n",
       "..               ...                                                ...   \n",
       "495           Walter                                ligula@Cumsociis.ca   \n",
       "496            Vanna                 Cum.sociis.natoque@Sedmolestie.edu   \n",
       "497            Pearl                      penatibus.et@massanonante.com   \n",
       "498             Nell                  Quisque.varius@arcuVivamussit.net   \n",
       "499            Marla                          Camaron.marla@hotmail.com   \n",
       "\n",
       "          country  gender        age  annual Salary  credit card debt  \\\n",
       "0        Bulgaria       0  41.851720    62812.09301      11609.380910   \n",
       "1          Belize       0  40.870623    66646.89292       9572.957136   \n",
       "2         Algeria       1  43.152897    53798.55112      11160.355060   \n",
       "3    Cook Islands       1  58.271369    79370.03798      14426.164850   \n",
       "4          Brazil       1  57.313749    59729.15130       5358.712177   \n",
       "..            ...     ...        ...            ...               ...   \n",
       "495         Nepal       0  41.462515    71942.40291       6995.902524   \n",
       "496      Zimbabwe       1  37.642000    56039.49793      12301.456790   \n",
       "497   Philippines       1  53.943497    68888.77805      10611.606860   \n",
       "498      Botswana       1  59.160509    49811.99062      14013.034510   \n",
       "499        marlal       1  46.731152    61370.67766       9391.341628   \n",
       "\n",
       "       net worth  car purchase amount  \n",
       "0    238961.2505          35321.45877  \n",
       "1    530973.9078          45115.52566  \n",
       "2    638467.1773          42925.70921  \n",
       "3    548599.0524          67422.36313  \n",
       "4    560304.0671          55915.46248  \n",
       "..           ...                  ...  \n",
       "495  541670.1016          48901.44342  \n",
       "496  360419.0988          31491.41457  \n",
       "497  764531.3203          64147.28888  \n",
       "498  337826.6382          45442.15353  \n",
       "499  462946.4924          45107.22566  \n",
       "\n",
       "[500 rows x 9 columns]"
      ]
     },
     "execution_count": 3,
     "metadata": {},
     "output_type": "execute_result"
    }
   ],
   "source": [
    "df = pd.read_csv('./car_purchasing.csv', encoding='latin1')\n",
    "df"
   ]
  },
  {
   "cell_type": "markdown",
   "id": "2d3ed46e",
   "metadata": {},
   "source": [
    "# Step 3: Data Cleaning and Preprocessing\n",
    "\n",
    "\n",
    "**Hint: You could use a `StandardScaler()` or `MinMaxScaler()`**"
   ]
  },
  {
   "cell_type": "code",
   "execution_count": 4,
   "metadata": {},
   "outputs": [
    {
     "data": {
      "text/plain": [
       "customer name          0\n",
       "customer e-mail        0\n",
       "country                0\n",
       "gender                 0\n",
       "age                    0\n",
       "annual Salary          0\n",
       "credit card debt       0\n",
       "net worth              0\n",
       "car purchase amount    0\n",
       "dtype: int64"
      ]
     },
     "execution_count": 4,
     "metadata": {},
     "output_type": "execute_result"
    }
   ],
   "source": [
    "df.isna().sum()"
   ]
  },
  {
   "cell_type": "code",
   "execution_count": 5,
   "metadata": {},
   "outputs": [
    {
     "data": {
      "text/plain": [
       "country\n",
       "Israel                 6\n",
       "Mauritania             6\n",
       "Bolivia                6\n",
       "Greenland              5\n",
       "Saint Barthélemy       5\n",
       "                      ..\n",
       "El Salvador            1\n",
       "Denmark                1\n",
       "Oman                   1\n",
       "Trinidad and Tobago    1\n",
       "marlal                 1\n",
       "Name: count, Length: 211, dtype: int64"
      ]
     },
     "execution_count": 5,
     "metadata": {},
     "output_type": "execute_result"
    }
   ],
   "source": [
    "df['country'].value_counts()"
   ]
  },
  {
   "cell_type": "code",
   "execution_count": 6,
   "metadata": {},
   "outputs": [],
   "source": [
    "df.drop(['customer name','customer e-mail'],axis=1,inplace=True)"
   ]
  },
  {
   "cell_type": "code",
   "execution_count": 7,
   "metadata": {},
   "outputs": [],
   "source": [
    "# Initialize the LabelEncoder\n",
    "from sklearn.calibration import LabelEncoder\n",
    "\n",
    "\n",
    "label_encoder = LabelEncoder()\n",
    "\n",
    "# Fit and transform the data\n",
    "df['country'] = label_encoder.fit_transform(df['country'])"
   ]
  },
  {
   "cell_type": "code",
   "execution_count": 8,
   "metadata": {},
   "outputs": [
    {
     "data": {
      "text/html": [
       "<div>\n",
       "<style scoped>\n",
       "    .dataframe tbody tr th:only-of-type {\n",
       "        vertical-align: middle;\n",
       "    }\n",
       "\n",
       "    .dataframe tbody tr th {\n",
       "        vertical-align: top;\n",
       "    }\n",
       "\n",
       "    .dataframe thead th {\n",
       "        text-align: right;\n",
       "    }\n",
       "</style>\n",
       "<table border=\"1\" class=\"dataframe\">\n",
       "  <thead>\n",
       "    <tr style=\"text-align: right;\">\n",
       "      <th></th>\n",
       "      <th>country</th>\n",
       "      <th>gender</th>\n",
       "      <th>age</th>\n",
       "      <th>annual Salary</th>\n",
       "      <th>credit card debt</th>\n",
       "      <th>net worth</th>\n",
       "      <th>car purchase amount</th>\n",
       "    </tr>\n",
       "  </thead>\n",
       "  <tbody>\n",
       "    <tr>\n",
       "      <th>0</th>\n",
       "      <td>27</td>\n",
       "      <td>0</td>\n",
       "      <td>41.851720</td>\n",
       "      <td>62812.09301</td>\n",
       "      <td>11609.380910</td>\n",
       "      <td>238961.2505</td>\n",
       "      <td>35321.45877</td>\n",
       "    </tr>\n",
       "    <tr>\n",
       "      <th>1</th>\n",
       "      <td>17</td>\n",
       "      <td>0</td>\n",
       "      <td>40.870623</td>\n",
       "      <td>66646.89292</td>\n",
       "      <td>9572.957136</td>\n",
       "      <td>530973.9078</td>\n",
       "      <td>45115.52566</td>\n",
       "    </tr>\n",
       "    <tr>\n",
       "      <th>2</th>\n",
       "      <td>1</td>\n",
       "      <td>1</td>\n",
       "      <td>43.152897</td>\n",
       "      <td>53798.55112</td>\n",
       "      <td>11160.355060</td>\n",
       "      <td>638467.1773</td>\n",
       "      <td>42925.70921</td>\n",
       "    </tr>\n",
       "    <tr>\n",
       "      <th>3</th>\n",
       "      <td>41</td>\n",
       "      <td>1</td>\n",
       "      <td>58.271369</td>\n",
       "      <td>79370.03798</td>\n",
       "      <td>14426.164850</td>\n",
       "      <td>548599.0524</td>\n",
       "      <td>67422.36313</td>\n",
       "    </tr>\n",
       "    <tr>\n",
       "      <th>4</th>\n",
       "      <td>26</td>\n",
       "      <td>1</td>\n",
       "      <td>57.313749</td>\n",
       "      <td>59729.15130</td>\n",
       "      <td>5358.712177</td>\n",
       "      <td>560304.0671</td>\n",
       "      <td>55915.46248</td>\n",
       "    </tr>\n",
       "    <tr>\n",
       "      <th>...</th>\n",
       "      <td>...</td>\n",
       "      <td>...</td>\n",
       "      <td>...</td>\n",
       "      <td>...</td>\n",
       "      <td>...</td>\n",
       "      <td>...</td>\n",
       "      <td>...</td>\n",
       "    </tr>\n",
       "    <tr>\n",
       "      <th>495</th>\n",
       "      <td>128</td>\n",
       "      <td>0</td>\n",
       "      <td>41.462515</td>\n",
       "      <td>71942.40291</td>\n",
       "      <td>6995.902524</td>\n",
       "      <td>541670.1016</td>\n",
       "      <td>48901.44342</td>\n",
       "    </tr>\n",
       "    <tr>\n",
       "      <th>496</th>\n",
       "      <td>208</td>\n",
       "      <td>1</td>\n",
       "      <td>37.642000</td>\n",
       "      <td>56039.49793</td>\n",
       "      <td>12301.456790</td>\n",
       "      <td>360419.0988</td>\n",
       "      <td>31491.41457</td>\n",
       "    </tr>\n",
       "    <tr>\n",
       "      <th>497</th>\n",
       "      <td>144</td>\n",
       "      <td>1</td>\n",
       "      <td>53.943497</td>\n",
       "      <td>68888.77805</td>\n",
       "      <td>10611.606860</td>\n",
       "      <td>764531.3203</td>\n",
       "      <td>64147.28888</td>\n",
       "    </tr>\n",
       "    <tr>\n",
       "      <th>498</th>\n",
       "      <td>24</td>\n",
       "      <td>1</td>\n",
       "      <td>59.160509</td>\n",
       "      <td>49811.99062</td>\n",
       "      <td>14013.034510</td>\n",
       "      <td>337826.6382</td>\n",
       "      <td>45442.15353</td>\n",
       "    </tr>\n",
       "    <tr>\n",
       "      <th>499</th>\n",
       "      <td>209</td>\n",
       "      <td>1</td>\n",
       "      <td>46.731152</td>\n",
       "      <td>61370.67766</td>\n",
       "      <td>9391.341628</td>\n",
       "      <td>462946.4924</td>\n",
       "      <td>45107.22566</td>\n",
       "    </tr>\n",
       "  </tbody>\n",
       "</table>\n",
       "<p>500 rows × 7 columns</p>\n",
       "</div>"
      ],
      "text/plain": [
       "     country  gender        age  annual Salary  credit card debt    net worth  \\\n",
       "0         27       0  41.851720    62812.09301      11609.380910  238961.2505   \n",
       "1         17       0  40.870623    66646.89292       9572.957136  530973.9078   \n",
       "2          1       1  43.152897    53798.55112      11160.355060  638467.1773   \n",
       "3         41       1  58.271369    79370.03798      14426.164850  548599.0524   \n",
       "4         26       1  57.313749    59729.15130       5358.712177  560304.0671   \n",
       "..       ...     ...        ...            ...               ...          ...   \n",
       "495      128       0  41.462515    71942.40291       6995.902524  541670.1016   \n",
       "496      208       1  37.642000    56039.49793      12301.456790  360419.0988   \n",
       "497      144       1  53.943497    68888.77805      10611.606860  764531.3203   \n",
       "498       24       1  59.160509    49811.99062      14013.034510  337826.6382   \n",
       "499      209       1  46.731152    61370.67766       9391.341628  462946.4924   \n",
       "\n",
       "     car purchase amount  \n",
       "0            35321.45877  \n",
       "1            45115.52566  \n",
       "2            42925.70921  \n",
       "3            67422.36313  \n",
       "4            55915.46248  \n",
       "..                   ...  \n",
       "495          48901.44342  \n",
       "496          31491.41457  \n",
       "497          64147.28888  \n",
       "498          45442.15353  \n",
       "499          45107.22566  \n",
       "\n",
       "[500 rows x 7 columns]"
      ]
     },
     "execution_count": 8,
     "metadata": {},
     "output_type": "execute_result"
    }
   ],
   "source": [
    "df"
   ]
  },
  {
   "cell_type": "code",
   "execution_count": 9,
   "id": "45dbe596",
   "metadata": {},
   "outputs": [],
   "source": [
    "# Write your code ^_^\n",
    "from sklearn.preprocessing import MinMaxScaler\n",
    "\n",
    "\n",
    "scaler = MinMaxScaler()\n",
    "\n",
    "scaled=scaler.fit_transform(df[['annual Salary','credit card debt',\t'net worth']])\n",
    "\n",
    "df[['annual Salary','credit card debt','net worth']]=scaled\n"
   ]
  },
  {
   "cell_type": "code",
   "execution_count": 10,
   "metadata": {},
   "outputs": [
    {
     "data": {
      "text/html": [
       "<div>\n",
       "<style scoped>\n",
       "    .dataframe tbody tr th:only-of-type {\n",
       "        vertical-align: middle;\n",
       "    }\n",
       "\n",
       "    .dataframe tbody tr th {\n",
       "        vertical-align: top;\n",
       "    }\n",
       "\n",
       "    .dataframe thead th {\n",
       "        text-align: right;\n",
       "    }\n",
       "</style>\n",
       "<table border=\"1\" class=\"dataframe\">\n",
       "  <thead>\n",
       "    <tr style=\"text-align: right;\">\n",
       "      <th></th>\n",
       "      <th>country</th>\n",
       "      <th>gender</th>\n",
       "      <th>age</th>\n",
       "      <th>annual Salary</th>\n",
       "      <th>credit card debt</th>\n",
       "      <th>net worth</th>\n",
       "      <th>car purchase amount</th>\n",
       "    </tr>\n",
       "  </thead>\n",
       "  <tbody>\n",
       "    <tr>\n",
       "      <th>0</th>\n",
       "      <td>27</td>\n",
       "      <td>0</td>\n",
       "      <td>41.851720</td>\n",
       "      <td>0.535151</td>\n",
       "      <td>0.578361</td>\n",
       "      <td>0.223430</td>\n",
       "      <td>35321.45877</td>\n",
       "    </tr>\n",
       "    <tr>\n",
       "      <th>1</th>\n",
       "      <td>17</td>\n",
       "      <td>0</td>\n",
       "      <td>40.870623</td>\n",
       "      <td>0.583086</td>\n",
       "      <td>0.476028</td>\n",
       "      <td>0.521402</td>\n",
       "      <td>45115.52566</td>\n",
       "    </tr>\n",
       "    <tr>\n",
       "      <th>2</th>\n",
       "      <td>1</td>\n",
       "      <td>1</td>\n",
       "      <td>43.152897</td>\n",
       "      <td>0.422482</td>\n",
       "      <td>0.555797</td>\n",
       "      <td>0.631089</td>\n",
       "      <td>42925.70921</td>\n",
       "    </tr>\n",
       "    <tr>\n",
       "      <th>3</th>\n",
       "      <td>41</td>\n",
       "      <td>1</td>\n",
       "      <td>58.271369</td>\n",
       "      <td>0.742125</td>\n",
       "      <td>0.719908</td>\n",
       "      <td>0.539387</td>\n",
       "      <td>67422.36313</td>\n",
       "    </tr>\n",
       "    <tr>\n",
       "      <th>4</th>\n",
       "      <td>26</td>\n",
       "      <td>1</td>\n",
       "      <td>57.313749</td>\n",
       "      <td>0.496614</td>\n",
       "      <td>0.264257</td>\n",
       "      <td>0.551331</td>\n",
       "      <td>55915.46248</td>\n",
       "    </tr>\n",
       "    <tr>\n",
       "      <th>...</th>\n",
       "      <td>...</td>\n",
       "      <td>...</td>\n",
       "      <td>...</td>\n",
       "      <td>...</td>\n",
       "      <td>...</td>\n",
       "      <td>...</td>\n",
       "      <td>...</td>\n",
       "    </tr>\n",
       "    <tr>\n",
       "      <th>495</th>\n",
       "      <td>128</td>\n",
       "      <td>0</td>\n",
       "      <td>41.462515</td>\n",
       "      <td>0.649280</td>\n",
       "      <td>0.346528</td>\n",
       "      <td>0.532316</td>\n",
       "      <td>48901.44342</td>\n",
       "    </tr>\n",
       "    <tr>\n",
       "      <th>496</th>\n",
       "      <td>208</td>\n",
       "      <td>1</td>\n",
       "      <td>37.642000</td>\n",
       "      <td>0.450494</td>\n",
       "      <td>0.613139</td>\n",
       "      <td>0.347366</td>\n",
       "      <td>31491.41457</td>\n",
       "    </tr>\n",
       "    <tr>\n",
       "      <th>497</th>\n",
       "      <td>144</td>\n",
       "      <td>1</td>\n",
       "      <td>53.943497</td>\n",
       "      <td>0.611110</td>\n",
       "      <td>0.528221</td>\n",
       "      <td>0.759726</td>\n",
       "      <td>64147.28888</td>\n",
       "    </tr>\n",
       "    <tr>\n",
       "      <th>498</th>\n",
       "      <td>24</td>\n",
       "      <td>1</td>\n",
       "      <td>59.160509</td>\n",
       "      <td>0.372650</td>\n",
       "      <td>0.699147</td>\n",
       "      <td>0.324313</td>\n",
       "      <td>45442.15353</td>\n",
       "    </tr>\n",
       "    <tr>\n",
       "      <th>499</th>\n",
       "      <td>209</td>\n",
       "      <td>1</td>\n",
       "      <td>46.731152</td>\n",
       "      <td>0.517133</td>\n",
       "      <td>0.466902</td>\n",
       "      <td>0.451986</td>\n",
       "      <td>45107.22566</td>\n",
       "    </tr>\n",
       "  </tbody>\n",
       "</table>\n",
       "<p>500 rows × 7 columns</p>\n",
       "</div>"
      ],
      "text/plain": [
       "     country  gender        age  annual Salary  credit card debt  net worth  \\\n",
       "0         27       0  41.851720       0.535151          0.578361   0.223430   \n",
       "1         17       0  40.870623       0.583086          0.476028   0.521402   \n",
       "2          1       1  43.152897       0.422482          0.555797   0.631089   \n",
       "3         41       1  58.271369       0.742125          0.719908   0.539387   \n",
       "4         26       1  57.313749       0.496614          0.264257   0.551331   \n",
       "..       ...     ...        ...            ...               ...        ...   \n",
       "495      128       0  41.462515       0.649280          0.346528   0.532316   \n",
       "496      208       1  37.642000       0.450494          0.613139   0.347366   \n",
       "497      144       1  53.943497       0.611110          0.528221   0.759726   \n",
       "498       24       1  59.160509       0.372650          0.699147   0.324313   \n",
       "499      209       1  46.731152       0.517133          0.466902   0.451986   \n",
       "\n",
       "     car purchase amount  \n",
       "0            35321.45877  \n",
       "1            45115.52566  \n",
       "2            42925.70921  \n",
       "3            67422.36313  \n",
       "4            55915.46248  \n",
       "..                   ...  \n",
       "495          48901.44342  \n",
       "496          31491.41457  \n",
       "497          64147.28888  \n",
       "498          45442.15353  \n",
       "499          45107.22566  \n",
       "\n",
       "[500 rows x 7 columns]"
      ]
     },
     "execution_count": 10,
     "metadata": {},
     "output_type": "execute_result"
    }
   ],
   "source": [
    "df"
   ]
  },
  {
   "cell_type": "markdown",
   "id": "4d654aaa",
   "metadata": {},
   "source": [
    "# Step 4: Train Test Split"
   ]
  },
  {
   "cell_type": "code",
   "execution_count": 11,
   "id": "54687a91",
   "metadata": {},
   "outputs": [],
   "source": [
    "# Write your code ^_^\n",
    "\n",
    "X = df.drop(columns=['car purchase amount'])\n",
    "y = df['car purchase amount']\n",
    "\n",
    "X_train, X_test, y_train, y_test = train_test_split(X, y, test_size=0.2, random_state=42)"
   ]
  },
  {
   "cell_type": "markdown",
   "id": "db652a21",
   "metadata": {},
   "source": [
    "# Step 5: Build the Artifical Neural Network Model"
   ]
  },
  {
   "cell_type": "code",
   "execution_count": 12,
   "metadata": {},
   "outputs": [
    {
     "data": {
      "text/plain": [
       "6"
      ]
     },
     "execution_count": 12,
     "metadata": {},
     "output_type": "execute_result"
    }
   ],
   "source": [
    "X_train.shape[1]"
   ]
  },
  {
   "cell_type": "code",
   "execution_count": 13,
   "id": "c7612a38",
   "metadata": {},
   "outputs": [
    {
     "name": "stdout",
     "output_type": "stream",
     "text": [
      "WARNING:tensorflow:From C:\\Users\\FzoOT\\AppData\\Local\\Packages\\PythonSoftwareFoundation.Python.3.11_qbz5n2kfra8p0\\LocalCache\\local-packages\\Python311\\site-packages\\keras\\src\\backend.py:873: The name tf.get_default_graph is deprecated. Please use tf.compat.v1.get_default_graph instead.\n",
      "\n",
      "WARNING:tensorflow:From C:\\Users\\FzoOT\\AppData\\Local\\Packages\\PythonSoftwareFoundation.Python.3.11_qbz5n2kfra8p0\\LocalCache\\local-packages\\Python311\\site-packages\\keras\\src\\optimizers\\__init__.py:309: The name tf.train.Optimizer is deprecated. Please use tf.compat.v1.train.Optimizer instead.\n",
      "\n"
     ]
    }
   ],
   "source": [
    "from keras import optimizers\n",
    "\n",
    "\n",
    "# Write your code ^_^\n",
    "model = Sequential()\n",
    "\n",
    "model.add(Dense(units=32, activation='relu', input_shape=(X_train.shape[1],)))\n",
    "model.add(Dense(units=1, activation='linear'))\n",
    "\n",
    "model.compile(\n",
    "    optimizer='adam',\n",
    "    loss='mean_squared_error',\n",
    "    metrics=['mse']\n",
    ")\n",
    "\n",
    "\n"
   ]
  },
  {
   "cell_type": "markdown",
   "id": "368f070a",
   "metadata": {},
   "source": [
    "### Clarify Your Artificial Neural Network (ANN) Model, Optimization, and Loss Function Choices and justify"
   ]
  },
  {
   "cell_type": "markdown",
   "id": "1350f619",
   "metadata": {},
   "source": [
    "\n",
    "This model predicts continuous values, using a single hidden layer with ReLU activation, an output layer for regression, Adam optimizer for faster learning, and Mean Squared Error for measuring prediction accuracy.Write your anwser here"
   ]
  },
  {
   "cell_type": "markdown",
   "id": "9d3d0afe",
   "metadata": {},
   "source": [
    "# Step 6: Train the Model\n"
   ]
  },
  {
   "cell_type": "code",
   "execution_count": 14,
   "id": "df82b416",
   "metadata": {},
   "outputs": [
    {
     "name": "stdout",
     "output_type": "stream",
     "text": [
      "Epoch 1/10\n",
      "WARNING:tensorflow:From C:\\Users\\FzoOT\\AppData\\Local\\Packages\\PythonSoftwareFoundation.Python.3.11_qbz5n2kfra8p0\\LocalCache\\local-packages\\Python311\\site-packages\\keras\\src\\utils\\tf_utils.py:492: The name tf.ragged.RaggedTensorValue is deprecated. Please use tf.compat.v1.ragged.RaggedTensorValue instead.\n",
      "\n",
      "WARNING:tensorflow:From C:\\Users\\FzoOT\\AppData\\Local\\Packages\\PythonSoftwareFoundation.Python.3.11_qbz5n2kfra8p0\\LocalCache\\local-packages\\Python311\\site-packages\\keras\\src\\engine\\base_layer_utils.py:384: The name tf.executing_eagerly_outside_functions is deprecated. Please use tf.compat.v1.executing_eagerly_outside_functions instead.\n",
      "\n",
      "50/50 [==============================] - 1s 4ms/step - loss: 2042845440.0000 - mse: 2042845440.0000 - val_loss: 2148848384.0000 - val_mse: 2148848384.0000\n",
      "Epoch 2/10\n",
      "50/50 [==============================] - 0s 1ms/step - loss: 2037755520.0000 - mse: 2037755520.0000 - val_loss: 2143304064.0000 - val_mse: 2143304064.0000\n",
      "Epoch 3/10\n",
      "50/50 [==============================] - 0s 1ms/step - loss: 2031309440.0000 - mse: 2031309440.0000 - val_loss: 2136310912.0000 - val_mse: 2136310912.0000\n",
      "Epoch 4/10\n",
      "50/50 [==============================] - 0s 1ms/step - loss: 2023155840.0000 - mse: 2023155840.0000 - val_loss: 2127234048.0000 - val_mse: 2127234048.0000\n",
      "Epoch 5/10\n",
      "50/50 [==============================] - 0s 1ms/step - loss: 2013002240.0000 - mse: 2013002240.0000 - val_loss: 2116435584.0000 - val_mse: 2116435584.0000\n",
      "Epoch 6/10\n",
      "50/50 [==============================] - 0s 1ms/step - loss: 2000685568.0000 - mse: 2000685568.0000 - val_loss: 2103205760.0000 - val_mse: 2103205760.0000\n",
      "Epoch 7/10\n",
      "50/50 [==============================] - 0s 1ms/step - loss: 1985949056.0000 - mse: 1985949056.0000 - val_loss: 2087791616.0000 - val_mse: 2087791616.0000\n",
      "Epoch 8/10\n",
      "50/50 [==============================] - 0s 1ms/step - loss: 1968988800.0000 - mse: 1968988800.0000 - val_loss: 2070168064.0000 - val_mse: 2070168064.0000\n",
      "Epoch 9/10\n",
      "50/50 [==============================] - 0s 1ms/step - loss: 1949807360.0000 - mse: 1949807360.0000 - val_loss: 2050338048.0000 - val_mse: 2050338048.0000\n",
      "Epoch 10/10\n",
      "50/50 [==============================] - 0s 1ms/step - loss: 1928393728.0000 - mse: 1928393728.0000 - val_loss: 2028390016.0000 - val_mse: 2028390016.0000\n"
     ]
    }
   ],
   "source": [
    "# Write your code ^_^\n",
    "\n",
    "import time\n",
    "\n",
    "\n",
    "start_time_ann_training = time.time()\n",
    "history_ann = model.fit(X_train,y_train,epochs=10,batch_size=8,validation_data=(X_test, y_test),validation_split=0.1)\n",
    "end_time_ann_training = time.time()\n",
    "ann_training_time = end_time_ann_training - start_time_ann_training\n"
   ]
  },
  {
   "cell_type": "markdown",
   "id": "ef00d5d7",
   "metadata": {},
   "source": [
    "# Step 7: Evaluate the Model"
   ]
  },
  {
   "cell_type": "code",
   "execution_count": 15,
   "id": "15e3f605",
   "metadata": {},
   "outputs": [
    {
     "name": "stdout",
     "output_type": "stream",
     "text": [
      "4/4 [==============================] - 0s 2ms/step - loss: 2028390144.0000 - mse: 2028390144.0000\n",
      "Test Mean squared Error: 2028390144.0\n"
     ]
    }
   ],
   "source": [
    "# Write your code ^_^\n",
    "test_loss, test_mse = model.evaluate(X_test, y_test)\n",
    "print(f\"Test Mean squared Error: {test_mse}\")"
   ]
  },
  {
   "cell_type": "markdown",
   "id": "298936f8",
   "metadata": {},
   "source": [
    "# Step 8: Build the Deep Neural Network Model"
   ]
  },
  {
   "cell_type": "code",
   "execution_count": 16,
   "id": "7b040bf5",
   "metadata": {},
   "outputs": [],
   "source": [
    "# Write your code ^_^\n",
    "model2 = Sequential()\n",
    "\n",
    "# Input layer and first hidden layer\n",
    "model2.add(Dense(units=128, activation='relu', input_shape=(X_train.shape[1],)))\n",
    "\n",
    "# Additional hidden layers\n",
    "model2.add(Dense(units=64, activation='relu'))\n",
    "model2.add(Dense(units=32, activation='relu'))\n",
    "model2.add(Dense(units=16, activation='relu'))\n",
    "\n",
    "\n",
    "# Output layer\n",
    "model2.add(Dense(units=1, activation='linear'))\n",
    "\n",
    "model2.compile(\n",
    "    optimizer='adam',\n",
    "    loss='mean_squared_error',\n",
    "    metrics=['mse']\n",
    ")"
   ]
  },
  {
   "cell_type": "markdown",
   "id": "d54d2910",
   "metadata": {},
   "source": [
    "### Clarify Your Deep Neural Network (DNN) Model, Optimization, and Loss Function Choices and justify "
   ]
  },
  {
   "cell_type": "markdown",
   "id": "5e94ee60",
   "metadata": {},
   "source": [
    "This neural network model comprises several ReLU-activated hidden layers for non-linearity, a linear output for continuous predictions, utilizing the Adam optimizer for adaptive learning rates, and employs Mean Squared Error (MSE) as the loss function, ideal for regression tasks due to its measure of average squared differences between predictions and actual values.Write your anwser here"
   ]
  },
  {
   "cell_type": "markdown",
   "id": "fd026668",
   "metadata": {},
   "source": [
    "# Step 9: Train the Model"
   ]
  },
  {
   "cell_type": "code",
   "execution_count": 17,
   "id": "c3132af2",
   "metadata": {},
   "outputs": [
    {
     "name": "stdout",
     "output_type": "stream",
     "text": [
      "Epoch 1/10\n",
      "25/25 [==============================] - 1s 6ms/step - loss: 2045455232.0000 - mse: 2045455232.0000 - val_loss: 2148587008.0000 - val_mse: 2148587008.0000\n",
      "Epoch 2/10\n",
      "25/25 [==============================] - 0s 2ms/step - loss: 2024391808.0000 - mse: 2024391808.0000 - val_loss: 2104863488.0000 - val_mse: 2104863488.0000\n",
      "Epoch 3/10\n",
      "25/25 [==============================] - 0s 2ms/step - loss: 1921698816.0000 - mse: 1921698816.0000 - val_loss: 1906518784.0000 - val_mse: 1906518784.0000\n",
      "Epoch 4/10\n",
      "25/25 [==============================] - 0s 2ms/step - loss: 1539455744.0000 - mse: 1539455744.0000 - val_loss: 1285555712.0000 - val_mse: 1285555712.0000\n",
      "Epoch 5/10\n",
      "25/25 [==============================] - 0s 2ms/step - loss: 730217536.0000 - mse: 730217536.0000 - val_loss: 438371296.0000 - val_mse: 438371296.0000\n",
      "Epoch 6/10\n",
      "25/25 [==============================] - 0s 2ms/step - loss: 331205728.0000 - mse: 331205728.0000 - val_loss: 342370048.0000 - val_mse: 342370048.0000\n",
      "Epoch 7/10\n",
      "25/25 [==============================] - 0s 2ms/step - loss: 289838752.0000 - mse: 289838752.0000 - val_loss: 316093568.0000 - val_mse: 316093568.0000\n",
      "Epoch 8/10\n",
      "25/25 [==============================] - 0s 2ms/step - loss: 260119904.0000 - mse: 260119904.0000 - val_loss: 274125024.0000 - val_mse: 274125024.0000\n",
      "Epoch 9/10\n",
      "25/25 [==============================] - 0s 2ms/step - loss: 231213696.0000 - mse: 231213696.0000 - val_loss: 232832640.0000 - val_mse: 232832640.0000\n",
      "Epoch 10/10\n",
      "25/25 [==============================] - 0s 2ms/step - loss: 199828992.0000 - mse: 199828992.0000 - val_loss: 202139360.0000 - val_mse: 202139360.0000\n"
     ]
    }
   ],
   "source": [
    "# Write your code ^_^\n",
    "\n",
    "# Train DNN model\n",
    "start_time_dnn_training = time.time()\n",
    "history_dnn = model2.fit(X_train,y_train,epochs=10,batch_size=16,validation_data=(X_test, y_test))\n",
    "end_time_dnn_training = time.time()\n",
    "dnn_training_time = end_time_dnn_training - start_time_dnn_training\n",
    "\n"
   ]
  },
  {
   "cell_type": "markdown",
   "id": "2c47aa76",
   "metadata": {},
   "source": [
    "# Step 10: Evaluate the Model"
   ]
  },
  {
   "cell_type": "code",
   "execution_count": 18,
   "id": "ff9d5311",
   "metadata": {},
   "outputs": [
    {
     "name": "stdout",
     "output_type": "stream",
     "text": [
      "4/4 [==============================] - 0s 2ms/step - loss: 202139360.0000 - mse: 202139360.0000\n",
      "Test Mean squared Error: 202139360.0\n"
     ]
    }
   ],
   "source": [
    "# Write your code ^_^\n",
    "# Write your code ^_^\n",
    "test_loss, test_mse2 = model2.evaluate(X_test, y_test)\n",
    "print(f\"Test Mean squared Error: {test_mse2}\")"
   ]
  },
  {
   "cell_type": "markdown",
   "id": "118a14bd",
   "metadata": {},
   "source": [
    "# Step 11: Evaluate and Compare Scores, Training Time, and Prediction Time of ANN/DNN Models"
   ]
  },
  {
   "cell_type": "markdown",
   "metadata": {},
   "source": [
    "- The ANN model has a significantly higher MSE compared to the DNN model, suggesting larger squared errors in its predictions on the test data.\n",
    "- The DNN model performs better in terms of MSE, indicating smaller average squared prediction errors compared to the ANN model."
   ]
  },
  {
   "cell_type": "code",
   "execution_count": 19,
   "id": "25f5e17b",
   "metadata": {},
   "outputs": [
    {
     "name": "stdout",
     "output_type": "stream",
     "text": [
      "ANN MSE: 2028390144.0\n",
      "DNN MSE: 202139360.0\n",
      "ANN Training Time: 1.3281545639038086\n",
      "DNN Training Time: 1.220855951309204\n"
     ]
    }
   ],
   "source": [
    "# Write your code ^_^\n",
    "\n",
    "\n",
    "print(\"ANN MSE:\", test_mse)\n",
    "print(\"DNN MSE:\", test_mse2)\n",
    "\n",
    "print(\"ANN Training Time:\", ann_training_time)\n",
    "print(\"DNN Training Time:\", dnn_training_time)"
   ]
  }
 ],
 "metadata": {
  "kernelspec": {
   "display_name": "Python 3 (ipykernel)",
   "language": "python",
   "name": "python3"
  },
  "language_info": {
   "codemirror_mode": {
    "name": "ipython",
    "version": 3
   },
   "file_extension": ".py",
   "mimetype": "text/x-python",
   "name": "python",
   "nbconvert_exporter": "python",
   "pygments_lexer": "ipython3",
   "version": "3.11.6"
  }
 },
 "nbformat": 4,
 "nbformat_minor": 5
}
